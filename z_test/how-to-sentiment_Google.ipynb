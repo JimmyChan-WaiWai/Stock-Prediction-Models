{
 "cells": [
  {
   "cell_type": "code",
   "execution_count": 8,
   "id": "confirmed-glucose",
   "metadata": {},
   "outputs": [],
   "source": [
    "from selenium import webdriver\n",
    "from bs4 import BeautifulSoup\n",
    "import requests as rq\n",
    "import time"
   ]
  },
  {
   "cell_type": "code",
   "execution_count": 14,
   "id": "permanent-intelligence",
   "metadata": {},
   "outputs": [],
   "source": [
    "chrome_path = \"C:\\\\GitHub\\\\FinTech\\\\Stock-Prediction-Models\\\\z_test\\\\chromedriver.exe\" #chromedriver.exe執行檔所存在的路徑\n",
    "web = webdriver.Chrome(chrome_path)\n",
    "url = \"https://money.udn.com/search/result/1001/%E5%95%9F%E7%A2%81/\""
   ]
  },
  {
   "cell_type": "code",
   "execution_count": 15,
   "id": "spatial-class",
   "metadata": {},
   "outputs": [
    {
     "name": "stdout",
     "output_type": "stream",
     "text": [
      "******************新頁面******************\n",
      "---\n",
      "https://money.udn.com/money/story/12509/5254935\n"
     ]
    },
    {
     "ename": "AttributeError",
     "evalue": "'NoneType' object has no attribute 'text'",
     "output_type": "error",
     "traceback": [
      "\u001b[1;31m---------------------------------------------------------------------------\u001b[0m",
      "\u001b[1;31mAttributeError\u001b[0m                            Traceback (most recent call last)",
      "\u001b[1;32m<ipython-input-15-c66a53d4cd32>\u001b[0m in \u001b[0;36m<module>\u001b[1;34m\u001b[0m\n\u001b[0;32m     20\u001b[0m         \u001b[0mhtml_doc\u001b[0m \u001b[1;33m=\u001b[0m \u001b[0mresponse\u001b[0m\u001b[1;33m.\u001b[0m\u001b[0mtext\u001b[0m \u001b[1;31m# text 屬性就是 html 檔案\u001b[0m\u001b[1;33m\u001b[0m\u001b[1;33m\u001b[0m\u001b[0m\n\u001b[0;32m     21\u001b[0m         \u001b[0msoup\u001b[0m \u001b[1;33m=\u001b[0m \u001b[0mBeautifulSoup\u001b[0m\u001b[1;33m(\u001b[0m\u001b[0mhtml_doc\u001b[0m\u001b[1;33m,\u001b[0m \u001b[1;34m\"html.parser\"\u001b[0m\u001b[1;33m)\u001b[0m\u001b[1;33m\u001b[0m\u001b[1;33m\u001b[0m\u001b[0m\n\u001b[1;32m---> 22\u001b[1;33m         \u001b[0mprint\u001b[0m\u001b[1;33m(\u001b[0m\u001b[1;34m'Title：'\u001b[0m\u001b[1;33m,\u001b[0m\u001b[1;34m'\\n'\u001b[0m\u001b[1;33m,\u001b[0m\u001b[0msoup\u001b[0m\u001b[1;33m.\u001b[0m\u001b[0mtitle\u001b[0m\u001b[1;33m.\u001b[0m\u001b[0mtext\u001b[0m\u001b[1;33m)\u001b[0m\u001b[1;33m\u001b[0m\u001b[1;33m\u001b[0m\u001b[0m\n\u001b[0m\u001b[0;32m     23\u001b[0m         \u001b[0minfo\u001b[0m\u001b[1;33m.\u001b[0m\u001b[0mappend\u001b[0m\u001b[1;33m(\u001b[0m\u001b[0msoup\u001b[0m\u001b[1;33m.\u001b[0m\u001b[0mtitle\u001b[0m\u001b[1;33m.\u001b[0m\u001b[0mtext\u001b[0m\u001b[1;33m)\u001b[0m\u001b[1;33m\u001b[0m\u001b[1;33m\u001b[0m\u001b[0m\n\u001b[0;32m     24\u001b[0m         \u001b[0mprint\u001b[0m\u001b[1;33m(\u001b[0m\u001b[1;34m'\\n'\u001b[0m\u001b[1;33m,\u001b[0m\u001b[1;34m'text：'\u001b[0m\u001b[1;33m)\u001b[0m\u001b[1;33m\u001b[0m\u001b[1;33m\u001b[0m\u001b[0m\n",
      "\u001b[1;31mAttributeError\u001b[0m: 'NoneType' object has no attribute 'text'"
     ]
    }
   ],
   "source": [
    "info = []\n",
    "for i in range(1,13):\n",
    "    url=url+str(i)\n",
    "    web.get(url) #打開瀏覽器進入指定頁面\n",
    "    print(\"******************新頁面******************\")\n",
    "#     c_url = web.current_url #使用webdriver的current_url方法取得當前的網址\n",
    "#     web.get(c_url) #瀏覽器轉跳至當前的網址\n",
    "    time.sleep(10)\n",
    "    html = web.page_source\n",
    "    soup = BeautifulSoup(html,\"html.parser\") #讀進soup中\n",
    "    content = soup.find(\"div\",id = 'search_content')\n",
    "    content = content.find_all('dt')\n",
    "    print('---')\n",
    "    num = 0\n",
    "    for tab in content:\n",
    "        title = tab.find(\"a\")\n",
    "        urls = title['href']\n",
    "        print(urls)\n",
    "        response = rq.get(urls) # 用 requests 的 get 方法把網頁抓下來\n",
    "        html_doc = response.text # text 屬性就是 html 檔案\n",
    "        soup = BeautifulSoup(html_doc, \"html.parser\")\n",
    "        print('Title：','\\n',soup.title.text)\n",
    "        info.append(soup.title.text)\n",
    "        print('\\n','text：')\n",
    "        indent = soup.find_all('p')\n",
    "        del indent[-4:]\n",
    "        text = []\n",
    "        temp = ''\n",
    "        for t in indent:\n",
    "            #text.append(t.get_text())\n",
    "            print(t.get_text(), end=' ')\n",
    "            tt=t.get_text()\n",
    "            tt=tt.strip()\n",
    "            tt=tt.replace(\" \",\"\")\n",
    "            tt=tt.replace(\"\\n\",\"\")\n",
    "            tt=tt.replace(\"\\r\",\"\")\n",
    "            temp += tt\n",
    "#             print (\"---------------------------------\")\n",
    "        text.append(temp)\n",
    "        info.append(text[0])\n",
    "#    num_page = num_page-1\n",
    "    i=i+1\n",
    "    url = \"https://money.udn.com/search/result/1001/%E5%95%9F%E7%A2%81/\"\n",
    "#    web.find_element_by_link_text(\"下一頁\").click() #按頁面上的\"下一頁\"link\n",
    "web.close() #關閉瀏覽器"
   ]
  },
  {
   "cell_type": "code",
   "execution_count": null,
   "id": "hawaiian-romance",
   "metadata": {},
   "outputs": [],
   "source": []
  }
 ],
 "metadata": {
  "kernelspec": {
   "display_name": "Python 3",
   "language": "python",
   "name": "python3"
  },
  "language_info": {
   "codemirror_mode": {
    "name": "ipython",
    "version": 3
   },
   "file_extension": ".py",
   "mimetype": "text/x-python",
   "name": "python",
   "nbconvert_exporter": "python",
   "pygments_lexer": "ipython3",
   "version": "3.8.5"
  }
 },
 "nbformat": 4,
 "nbformat_minor": 5
}
